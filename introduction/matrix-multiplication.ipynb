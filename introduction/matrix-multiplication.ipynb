{
 "cells": [
  {
   "cell_type": "code",
   "execution_count": 76,
   "id": "9fc03833",
   "metadata": {},
   "outputs": [],
   "source": [
    "# Matrixmultiplikation\n",
    "\n",
    "def calculate_matrix_value(i, j, A, B):\n",
    "    \"\"\"Calculates a single value for matrix multiplication\"\"\"\n",
    "    value = 0\n",
    "    for a in range(len(A[i])):\n",
    "        value += A[i][a] * B[a][j]\n",
    "    return value\n",
    "\n",
    "def matrix_multiply(A, B):\n",
    "    \"\"\"Multiplies two matrices\"\"\"\n",
    "    if len(A[0]) != len(B):\n",
    "        raise Exception(\"Number of columns(first matrix) doesn't match number of rows(second matrix)\")\n",
    "    res = [[0 for x in B[0]] for x in A]\n",
    "    for i in range(len(A)):\n",
    "        for j in range(len(B[0])):\n",
    "            res[i][j] = calculate_matrix_value(i, j, A, B)\n",
    "    return res\n",
    "\n",
    "def mprint(matrix):\n",
    "    \"\"\"Prints a matrix row by row\"\"\"\n",
    "    for row in matrix:\n",
    "        print(row)"
   ]
  },
  {
   "cell_type": "code",
   "execution_count": 77,
   "id": "86fea74c",
   "metadata": {},
   "outputs": [
    {
     "name": "stdout",
     "output_type": "stream",
     "text": [
      "[3, 6, 9, 12, 15]\n",
      "[9, 18, 27, 36, 45]\n"
     ]
    }
   ],
   "source": [
    "A = [[1, 2],\n",
    "     [4, 5]]\n",
    "B = [[1, 2, 3, 4, 5],\n",
    "     [1, 2, 3, 4, 5]]\n",
    "\n",
    "mprint(matrix_multiply(A, B))"
   ]
  }
 ],
 "metadata": {
  "kernelspec": {
   "display_name": "Python 3 (ipykernel)",
   "language": "python",
   "name": "python3"
  },
  "language_info": {
   "codemirror_mode": {
    "name": "ipython",
    "version": 3
   },
   "file_extension": ".py",
   "mimetype": "text/x-python",
   "name": "python",
   "nbconvert_exporter": "python",
   "pygments_lexer": "ipython3",
   "version": "3.10.7"
  }
 },
 "nbformat": 4,
 "nbformat_minor": 5
}
