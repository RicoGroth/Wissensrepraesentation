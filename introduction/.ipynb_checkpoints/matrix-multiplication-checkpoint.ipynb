{
 "cells": [
  {
   "cell_type": "code",
   "execution_count": 58,
   "id": "4f56ba7b",
   "metadata": {},
   "outputs": [],
   "source": [
    "# Matrixmultiplikation\n",
    "\n",
    "def calculate_matrix_value(i, j, A, B):\n",
    "    \"\"\"Calculates a single value for matrix multiplication\"\"\"\n",
    "    value = 0\n",
    "    for a in range(len(A[i])):\n",
    "        for b in range(len(B)):\n",
    "            value += A[i][a] * B[b][j]\n",
    "    return value\n",
    "\n",
    "def matrix_multiply(A, B):\n",
    "    # size of a row in A has to match the size of B\n",
    "    if len(A[0]) != len(B):\n",
    "        raise Exception(\"Number of columns(first matrix) doesn't match number of rows(second matrix)\")\n",
    "    # res-matrix = list[rows of A][columns of B]\n",
    "    res = [[0 for x in B[0]] for x in A]\n",
    "    for i in range(len(A)):\n",
    "        for j in range(len(B[0])):\n",
    "            res[i][j] = calculate_matrix_value(i, j, A, B)\n",
    "    return res\n",
    "\n",
    "def mprint(matrix):\n",
    "    for row in matrix:\n",
    "        print(row)"
   ]
  },
  {
   "cell_type": "code",
   "execution_count": 59,
   "id": "14d1f3e1",
   "metadata": {},
   "outputs": [
    {
     "name": "stdout",
     "output_type": "stream",
     "text": [
      "[42, 48, 48, 90, 84]\n",
      "[105, 120, 120, 225, 210]\n"
     ]
    }
   ],
   "source": [
    "A = [[1, 2, 3],\n",
    "     [4, 5, 6]]\n",
    "B = [[1, 2, 3, 4, 5],\n",
    "     [1, 2, 3, 4, 5],\n",
    "     [1, 2, 3, 4, 5]]\n",
    "\n",
    "mprint(matrix_multiply(A, B))"
   ]
  }
 ],
 "metadata": {
  "kernelspec": {
   "display_name": "Python 3 (ipykernel)",
   "language": "python",
   "name": "python3"
  },
  "language_info": {
   "codemirror_mode": {
    "name": "ipython",
    "version": 3
   },
   "file_extension": ".py",
   "mimetype": "text/x-python",
   "name": "python",
   "nbconvert_exporter": "python",
   "pygments_lexer": "ipython3",
   "version": "3.10.7"
  }
 },
 "nbformat": 4,
 "nbformat_minor": 5
}
