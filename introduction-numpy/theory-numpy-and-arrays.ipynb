{
 "cells": [
  {
   "cell_type": "markdown",
   "metadata": {},
   "source": [
    "# Introduction to Numpy and Arrays\n"
   ]
  },
  {
   "cell_type": "markdown",
   "metadata": {},
   "source": [
    "## Table of Contents\n",
    "* [Introduction](#Introduction) \n",
    "* [Requirements](#Requirements) \n",
    "  * [Knowledge](#Knowledge) \n",
    "  * [Modules](#Python-Modules) \n",
    "* [Theory](#Theory)\n",
    "    * [Initialization and Metainformation](#Initialization-and-Metainformation) \n",
    "    * [Indexing](#Indexing) \n",
    "    * [Slicing](#Slicing) \n",
    "    * [Fancy Indexing](#Fancy-Indexing) \n",
    "    * [Boollean Indexing](#Boolean-Indexing)\n",
    "    * [Reshape](#Reshape)\n",
    "    * [Concatenate](#Concatenate)\n",
    "    * [Operators](#Operators)\n",
    "    * [Operators in Numpy](#Operators-in-Numpy)\n",
    "    * [Broadcasting](#Broadcasting)\n",
    "    * [Misc](#Misc)\n",
    "* [Summary and Outlook](#Summary-and-Outlook) \n",
    "* [Literature](#Literature) \n",
    "* [Licenses](#Licenses) "
   ]
  },
  {
   "cell_type": "markdown",
   "metadata": {},
   "source": [
    "## Introduction"
   ]
  },
  {
   "cell_type": "markdown",
   "metadata": {},
   "source": [
    "This notebook will summarize important techniques you will need to work efficiently with arrays in python using numpy. You will learn how to initialize arrays, how to access elements in them, how to manipulate them and how python operators deal with arrays in calculation. Array broadcasting in python will also be an important part at the end of the notebook. Working efficiently with arrays in numpy not only saves code and avoids loops but improves the computation time of your algorithms by a huge factor. This huge factor can make the difference between 1min of computation time or a few hours, which will be a great benefit when working with big data sets in machine learning.      "
   ]
  },
  {
   "cell_type": "markdown",
   "metadata": {},
   "source": [
    "## Requirements \n",
    "### Knowledge\n",
    "\n",
    "Since this notebook is a basic python numpy notebook no special knowledge is requirement accept some fundamental python syntax."
   ]
  },
  {
   "cell_type": "markdown",
   "metadata": {},
   "source": [
    "## Python Modules\n",
    "\n",
    "Since this will be an numpy only notebook, we only need the numpy libary."
   ]
  },
  {
   "cell_type": "code",
   "execution_count": null,
   "metadata": {},
   "outputs": [],
   "source": [
    "import numpy as np"
   ]
  },
  {
   "cell_type": "markdown",
   "metadata": {},
   "source": [
    "# Basics"
   ]
  },
  {
   "cell_type": "markdown",
   "metadata": {},
   "source": [
    "## Initialization and Metainformation"
   ]
  },
  {
   "cell_type": "markdown",
   "metadata": {},
   "source": [
    "A simple 1D Array of certain length can be initialized by"
   ]
  },
  {
   "cell_type": "code",
   "execution_count": null,
   "metadata": {},
   "outputs": [],
   "source": [
    "Test1D = np.array([1,2,3,4])\n",
    "print(Test1D)"
   ]
  },
  {
   "cell_type": "markdown",
   "metadata": {},
   "source": [
    "For 1D arrays Python doesn't distinguish between column and row 'vectors'. To do this we have to define a 2D array which we will consider later.   \n"
   ]
  },
  {
   "cell_type": "markdown",
   "metadata": {},
   "source": [
    "Array with only zeros or ones can be initialized by "
   ]
  },
  {
   "cell_type": "code",
   "execution_count": null,
   "metadata": {},
   "outputs": [],
   "source": [
    "length = 10\n",
    "Test1D_Ones = np.ones(length)\n",
    "Test1D_Zeros = np.zeros(length)\n",
    "print(Test1D_Ones)\n",
    "print(Test1D_Zeros)"
   ]
  },
  {
   "cell_type": "markdown",
   "metadata": {},
   "source": [
    "The dtype is assinged according to the number with the highest dtype hierachy. The position of this number doesnt matter for the dtype assigment. The hierachy is given by\n",
    "\n",
    "int8,…,uint8,…,float16, float32, float64, complex64, complex128.\n",
    "\n",
    "Default for integers is `np.int32` or `np.int64` depending on the operation system. However Windows 10 64bit also defaults to `np.int32`.\n",
    "\n",
    "The default for floats is always `np.float64`. Zeros and ones array, have `float64` as `dtype`."
   ]
  },
  {
   "cell_type": "code",
   "execution_count": null,
   "metadata": {},
   "outputs": [],
   "source": [
    "print(Test1D_Ones.dtype)"
   ]
  },
  {
   "cell_type": "markdown",
   "metadata": {},
   "source": [
    "Note the difference between the python `type`and the numpy `dtype`."
   ]
  },
  {
   "cell_type": "code",
   "execution_count": null,
   "metadata": {},
   "outputs": [],
   "source": [
    "type(Test1D_Ones)"
   ]
  },
  {
   "cell_type": "markdown",
   "metadata": {},
   "source": [
    "The `dtype` can also be set using the additional argument, e.g. `dtype=np.int32`."
   ]
  },
  {
   "cell_type": "code",
   "execution_count": null,
   "metadata": {},
   "outputs": [],
   "source": [
    "Test1D = np.array([1,2,3,4])\n",
    "print(Test1D.dtype)\n",
    "Test1D = np.array([1,2,3.3,4])\n",
    "print(Test1D.dtype)\n",
    "Test1D = np.array([1,2,3,4],dtype=np.int64)\n",
    "print(Test1D.dtype)\n",
    "Test1D = np.array([1,2.2,3,4],dtype=np.float16)\n",
    "print(Test1D.dtype)"
   ]
  },
  {
   "cell_type": "markdown",
   "metadata": {},
   "source": [
    "A simple 2D Array (= matrix) can be initialized by"
   ]
  },
  {
   "cell_type": "code",
   "execution_count": null,
   "metadata": {},
   "outputs": [],
   "source": [
    "Test2D = np.array([[1,2,3],[4,5,6],[7,8,9],[14,25,16]])\n",
    "print(Test2D)\n",
    "print()\n",
    "print(\"dytype: \",Test2D.dtype)"
   ]
  },
  {
   "cell_type": "markdown",
   "metadata": {},
   "source": [
    "With `ndim` we get the number of dimensions of the numpy array:"
   ]
  },
  {
   "cell_type": "code",
   "execution_count": null,
   "metadata": {},
   "outputs": [],
   "source": [
    "Test2D.ndim"
   ]
  },
  {
   "cell_type": "markdown",
   "metadata": {},
   "source": [
    "Basically, a 2D numpy array is an array of a arrays, the outer bracket <!--`[...,...,...]`--> represents an array which contains more arrays as elements instead of just numbers. Each inner bracket `[]` then represents a row in the matrix. This is analog to a matrix in math which can be thought of as a collection of row or column vectors. \n",
    "Since we have 2 dimension which one is which? \n",
    "\n",
    "The first dimension (dim=0 in numpy) is given along the inner arrays (row index), since we have an array of arrays. The second dimension (dim=1 in numpy) is given along the elements in the inner arrays (column index). I.e., the index order is `[row, column]`analog to matrix indices.\n",
    "This will become more clearly later when we talk about how to access elements in arrays."
   ]
  },
  {
   "cell_type": "markdown",
   "metadata": {},
   "source": [
    "All arguments about `dtypes` in 1D arrays are also valid here.\n",
    "<!-- Since our 2D array is slightly more complex we get an additional meta information besides the dtype which is the shape. -->\n",
    "The shape will tell us how many elements we have along the first and second dimension."
   ]
  },
  {
   "cell_type": "code",
   "execution_count": null,
   "metadata": {},
   "outputs": [],
   "source": [
    "print(Test2D.shape)"
   ]
  },
  {
   "cell_type": "markdown",
   "metadata": {},
   "source": [
    "Since the array `Test2D` contains 4 arrays with 3 elements the shape is `(4,3)`. For a 1D array shape will basically give us the length/the number of elements."
   ]
  },
  {
   "cell_type": "code",
   "execution_count": null,
   "metadata": {},
   "outputs": [],
   "source": [
    "print(Test1D.shape)\n",
    "print(len(Test1D))"
   ]
  },
  {
   "cell_type": "markdown",
   "metadata": {},
   "source": [
    "Note that the length `len` of an array is the same as the first `shape` value, i.e.:"
   ]
  },
  {
   "cell_type": "code",
   "execution_count": null,
   "metadata": {},
   "outputs": [],
   "source": [
    "print(len(Test2D), \"=\" , Test2D.shape[0])"
   ]
  },
  {
   "cell_type": "markdown",
   "metadata": {},
   "source": [
    "As for 1D arrays it is also possible to initialize 2D `zeros` and `ones` arrays. The only difference is that instead of providing a length as argument we give a shape as a tuple as the argument.\n"
   ]
  },
  {
   "cell_type": "code",
   "execution_count": null,
   "metadata": {},
   "outputs": [],
   "source": [
    "Test2D_Ones = np.ones((3,4))\n",
    "print(Test2D_Ones)\n",
    "print()\n",
    "Test2D_Zeros = np.zeros((4,3))\n",
    "print(Test2D_Zeros)"
   ]
  },
  {
   "cell_type": "markdown",
   "metadata": {},
   "source": [
    "## Indexing"
   ]
  },
  {
   "cell_type": "markdown",
   "metadata": {},
   "source": [
    "Each element in an array can simply be accessed by calling its position using index notations. To address exactly one element in a multidimensional array we need for each dimension an index, e.g.\n",
    "- for a 1D array its only one index \n",
    "- for 2D we can use up to 2 \n",
    "- and so on.\n",
    "\n",
    "#### Important!\n",
    "Python and numpy always starts counting at 0, so our first element will have position 0 the second element position 1 and so on."
   ]
  },
  {
   "cell_type": "code",
   "execution_count": null,
   "metadata": {},
   "outputs": [],
   "source": [
    "Test1D = np.array([1,2,3,4,4,5,6,7,3,4])\n",
    "print(Test1D)"
   ]
  },
  {
   "cell_type": "markdown",
   "metadata": {},
   "source": [
    "If we want to have the third element from our 1D Array, which is 3, we write "
   ]
  },
  {
   "cell_type": "code",
   "execution_count": null,
   "metadata": {},
   "outputs": [],
   "source": [
    "print(Test1D[2]) "
   ]
  },
  {
   "cell_type": "markdown",
   "metadata": {},
   "source": [
    "So `[...]` attached to our 1D array will run over all elements we have:\n"
   ]
  },
  {
   "cell_type": "code",
   "execution_count": null,
   "metadata": {},
   "outputs": [],
   "source": [
    "print(Test1D[...]) # this seems to be silly. But with multidimensional arrays this will make more sense (see below). "
   ]
  },
  {
   "cell_type": "markdown",
   "metadata": {},
   "source": [
    "The same principle can be used for 2D arrays but here we attach `[dim0,dim1]` where we have 2 indices running over the 2 dimensions. The first runs over the first dimension and the second over the second dimension. If we want to have the second element from the third row of our 2D matrix we write "
   ]
  },
  {
   "cell_type": "code",
   "execution_count": null,
   "metadata": {},
   "outputs": [],
   "source": [
    "print(Test2D)\n",
    "print(Test2D[2,1])"
   ]
  },
  {
   "cell_type": "markdown",
   "metadata": {},
   "source": [
    "As said above for 2D Array we can us **UP TO** 2 indices, meaning that we are also allowed to run only over the first dimension by only using one index. So if we want to have for example the second row we write"
   ]
  },
  {
   "cell_type": "code",
   "execution_count": null,
   "metadata": {},
   "outputs": [],
   "source": [
    "print(Test2D[1])"
   ]
  },
  {
   "cell_type": "markdown",
   "metadata": {},
   "source": [
    "Besides the positive, intuitive indices, python also allows negativ indices. Basically positve indices count from the 'left' (forward) starting with 0 and negative indices count from the 'right' (backward) starting with -1.\n",
    "\n",
    "So for a 1D array of length 4 the positions can be labeled by \n",
    "\n",
    "`[0,1,2,3]` or `[-4,-3,-2,-1]`."
   ]
  },
  {
   "cell_type": "code",
   "execution_count": null,
   "metadata": {},
   "outputs": [],
   "source": [
    "print(Test1D)\n",
    "print(Test1D[2])\n",
    "print(Test1D[-8])"
   ]
  },
  {
   "cell_type": "markdown",
   "metadata": {},
   "source": [
    "Besides positive and negative indices there is also the symbol '...', which means 'take all' elements in this dimension.\n",
    "This allows us for example to get a certain row or column from a 2D array. If we want to get the third element from each element in the frist dimension,third column of a matrix, we write `[...,2]`.\n"
   ]
  },
  {
   "cell_type": "code",
   "execution_count": null,
   "metadata": {},
   "outputs": [],
   "source": [
    "print(Test2D)\n",
    "print()\n",
    "print(Test2D[...,2])"
   ]
  },
  {
   "cell_type": "markdown",
   "metadata": {},
   "source": [
    "To get the second row we can either write just [1] or [1,...]."
   ]
  },
  {
   "cell_type": "code",
   "execution_count": null,
   "metadata": {},
   "outputs": [],
   "source": [
    "print(Test2D)\n",
    "print()\n",
    "print(Test2D[1,...])\n",
    "print()\n",
    "print(Test2D[1])"
   ]
  },
  {
   "cell_type": "markdown",
   "metadata": {},
   "source": [
    "All arguments above can also be extended for arbitrary multidimensional arrays."
   ]
  },
  {
   "cell_type": "markdown",
   "metadata": {},
   "source": [
    "## Slicing"
   ]
  },
  {
   "cell_type": "markdown",
   "metadata": {
    "collapsed": true
   },
   "source": [
    "An extremly useful technique to access elements in arrays is called slicing.\n",
    "Basically slicing is indexing using a start, stop and step value, equivalent to an explicit python loop running over an array but much faster.\n",
    "The notation goes like following, `[start index: stop index: step size]` for each dimension. \n",
    "If we leave out the start or the stop index by default the first and respectivly last element is used.\n",
    "The default for the step size is 1."
   ]
  },
  {
   "cell_type": "markdown",
   "metadata": {
    "collapsed": true
   },
   "source": [
    "So if we want to filter every second element we write:"
   ]
  },
  {
   "cell_type": "code",
   "execution_count": null,
   "metadata": {},
   "outputs": [],
   "source": [
    "print(Test1D)\n",
    "print(Test1D[1:10:2]) # from index 1 to 10, every 2nd element\n",
    "\n",
    "# or\n",
    "\n",
    "print(Test1D[1::2]) # from index 1 to end (default), every 2nd element"
   ]
  },
  {
   "cell_type": "markdown",
   "metadata": {
    "collapsed": true
   },
   "source": [
    "If we want to split an array in two halfs we write"
   ]
  },
  {
   "cell_type": "code",
   "execution_count": null,
   "metadata": {},
   "outputs": [],
   "source": [
    "print(Test1D)\n",
    "\n",
    "# cast as int because \"/2\" results in float\n",
    "half_len = int((len(Test1D)/2)) \n",
    "\n",
    "print(Test1D[0:half_len:]) # from 0 to half_len, stepsize 1 (default)\n",
    "print(Test1D[:half_len:]) # from 0 (default) to half_len, stepsize 1 (default)\n",
    "print(Test1D[half_len::]) # from half_len to end (default), stepsize 1 (default)"
   ]
  },
  {
   "cell_type": "code",
   "execution_count": null,
   "metadata": {},
   "outputs": [],
   "source": [
    "# Note: there is also a build-in function for splitting an array\n",
    "np.split(Test1D, 2)"
   ]
  },
  {
   "cell_type": "code",
   "execution_count": null,
   "metadata": {},
   "outputs": [],
   "source": [
    "print(Test2D)\n",
    "print()\n",
    "# get the second to third column of the matrix:\n",
    "print(Test2D[...,1:3]) # "
   ]
  },
  {
   "cell_type": "markdown",
   "metadata": {},
   "source": [
    "Note: Therefore, `:` is equivalent to `...`."
   ]
  },
  {
   "cell_type": "code",
   "execution_count": null,
   "metadata": {},
   "outputs": [],
   "source": [
    "print(Test2D[:,2])\n",
    "print(Test2D[...,2])"
   ]
  },
  {
   "cell_type": "markdown",
   "metadata": {
    "collapsed": true
   },
   "source": [
    "We can also manipulate a 2D array quite fast without any loops. Consider for example the following matrix:"
   ]
  },
  {
   "cell_type": "code",
   "execution_count": null,
   "metadata": {},
   "outputs": [],
   "source": [
    "np.random.seed(42)\n",
    "\n",
    "#look up in the build-in help (shift + tab) what's going on, here! \n",
    "Test2D = np.random.rand(4,4).round(1)\n",
    "print(Test2D)"
   ]
  },
  {
   "cell_type": "markdown",
   "metadata": {
    "collapsed": true
   },
   "source": [
    "To set every second row to zero we write"
   ]
  },
  {
   "cell_type": "code",
   "execution_count": null,
   "metadata": {},
   "outputs": [],
   "source": [
    "Test2D[1::2] = 0\n",
    "print(Test2D)"
   ]
  },
  {
   "cell_type": "markdown",
   "metadata": {
    "collapsed": true
   },
   "source": [
    "To set every second column to zero we write\n"
   ]
  },
  {
   "cell_type": "code",
   "execution_count": null,
   "metadata": {},
   "outputs": [],
   "source": [
    "Test2D = np.random.rand(4,4).round(1)\n",
    "print(Test2D)\n",
    "print()\n",
    "Test2D[:,1::2] = 0\n",
    "print(Test2D)"
   ]
  },
  {
   "cell_type": "markdown",
   "metadata": {
    "collapsed": true
   },
   "source": [
    "So now lets see how much faster and also shorter slicing is towards loops. To do this we generate a fairly big matrix and set each even row to zero and measure the execution time."
   ]
  },
  {
   "cell_type": "code",
   "execution_count": null,
   "metadata": {},
   "outputs": [],
   "source": [
    "import time as t\n",
    "np.random.seed(43)\n",
    "size = 10000\n",
    "\n",
    "Test2D = np.random.rand(size,size).round(1)\n",
    "\n",
    "start = t.time()\n",
    "Test2D[::2] = 0\n",
    "end = t.time()\n",
    "time1 = end - start\n",
    "print('Slicing :',time1,'s')\n",
    "#print(Test2D)\n",
    "\n",
    "Test2D = np.random.rand(size,size).round(1)\n",
    "\n",
    "start = t.time()\n",
    "for i in range(size):\n",
    "    for j in range(size):\n",
    "        if i%2==0:\n",
    "            Test2D[i,j] = 0\n",
    "end = t.time()\n",
    "time2 = end - start\n",
    "print('Loop :',time2,'s')\n",
    "#print(Test2D)\n",
    "print('-------------------------')\n",
    "print('Difference factor :',time2/time1)\n"
   ]
  },
  {
   "cell_type": "markdown",
   "metadata": {
    "collapsed": true
   },
   "source": [
    "The result is quite impressive, slicing takes only one line of code and is faster by a considerable margin. Depending on the hardware, slicing should be approximately 200-400 times faster than the equivalent code using loops. So for machine learning codes slicing is the way to go for since it is extremely efficient and saves a lot of computation time. "
   ]
  },
  {
   "cell_type": "markdown",
   "metadata": {},
   "source": [
    "So we have the following rule: __Avoid python loops!__"
   ]
  },
  {
   "cell_type": "markdown",
   "metadata": {},
   "source": [
    "## Fancy Indexing\n"
   ]
  },
  {
   "cell_type": "markdown",
   "metadata": {},
   "source": [
    "Fancy indexing replaces the indexing using a scalar as seen before with index arrays. So instead of using a scalar to get one particular element we use an array of index to get multiple elements at a time. "
   ]
  },
  {
   "cell_type": "markdown",
   "metadata": {},
   "source": [
    "Consider the following matrix."
   ]
  },
  {
   "cell_type": "code",
   "execution_count": null,
   "metadata": {},
   "outputs": [],
   "source": [
    "Test2D = np.random.rand(8,8).round(2)*100\n",
    "print(Test2D)"
   ]
  },
  {
   "cell_type": "markdown",
   "metadata": {},
   "source": [
    "If we want to get the diagonal we can use fancy indexing the following way "
   ]
  },
  {
   "cell_type": "code",
   "execution_count": null,
   "metadata": {},
   "outputs": [],
   "source": [
    "IndexArray = np.arange(8)\n",
    "print (IndexArray)\n",
    "Dia = Test2D[IndexArray, IndexArray]\n",
    "print()\n",
    "print(Dia)"
   ]
  },
  {
   "cell_type": "code",
   "execution_count": null,
   "metadata": {},
   "outputs": [],
   "source": [
    "# Note: We can also get the diagonal by the build-in method:\n",
    "print(Test2D.diagonal())"
   ]
  },
  {
   "cell_type": "markdown",
   "metadata": {},
   "source": [
    "It is also possible to define 2D array indices, matrix of indices, which can be used to filter some important elements out of a matrix. If we want to get the elements with indices (2,1),(3,4),(5,3) and (6,7) we can write "
   ]
  },
  {
   "cell_type": "code",
   "execution_count": null,
   "metadata": {
    "scrolled": true
   },
   "outputs": [],
   "source": [
    "IndexArray2 = [2,3,5,6]\n",
    "IndexArray3 = np.array([[1,4,3,7]],dtype=int)\n",
    "print(Test2D)\n",
    "Sec = Test2D[IndexArray2,IndexArray3]\n",
    "print()\n",
    "print(Sec)"
   ]
  },
  {
   "cell_type": "markdown",
   "metadata": {},
   "source": [
    "## Boolean Indexing"
   ]
  },
  {
   "cell_type": "markdown",
   "metadata": {
    "collapsed": true
   },
   "source": [
    "Boolean indexing is a technique which allows you to use a boolean vales as index, that filters elements in your array which fullfill this expression. \n",
    "Consider the following matrix."
   ]
  },
  {
   "cell_type": "code",
   "execution_count": null,
   "metadata": {},
   "outputs": [],
   "source": [
    "np.random.seed(43)\n",
    "\n",
    "Test2D = 10*np.random.rand(5,5).round(1)\n",
    "print(Test2D)"
   ]
  },
  {
   "cell_type": "markdown",
   "metadata": {},
   "source": [
    "If we now use a boolean expression on an array, the expression is evaluated elementwise and the output will be an array of the same shape with dtype `bool`, which will then be used as a mask. "
   ]
  },
  {
   "cell_type": "code",
   "execution_count": null,
   "metadata": {},
   "outputs": [],
   "source": [
    "Test2DBool = Test2D>3\n",
    "print(Test2DBool)\n",
    "print()\n",
    "print('dtype:',Test2DBool.dtype)"
   ]
  },
  {
   "cell_type": "markdown",
   "metadata": {},
   "source": [
    "Now we use this mask as an index for our array and as output we will get an array (1D array) with all entries for which the mask is true."
   ]
  },
  {
   "cell_type": "code",
   "execution_count": null,
   "metadata": {},
   "outputs": [],
   "source": [
    "print(Test2D[Test2DBool])"
   ]
  },
  {
   "cell_type": "markdown",
   "metadata": {},
   "source": [
    "Boolean indexing supports all standard comparision operators `<`,`>`,`==`,`<=`,`>=` in a boolean expression plus the bitwise logic operators `&`(and),`|`(or) and `^`(xor) and `~`(not)."
   ]
  },
  {
   "cell_type": "code",
   "execution_count": null,
   "metadata": {},
   "outputs": [],
   "source": [
    "print(Test2D[(Test2D>2) & (Test2D<5)])"
   ]
  },
  {
   "cell_type": "markdown",
   "metadata": {},
   "source": [
    "This can be used e.g. to set all elements of `Test2D` larger than 3 to the value 3:"
   ]
  },
  {
   "cell_type": "code",
   "execution_count": null,
   "metadata": {},
   "outputs": [],
   "source": [
    "print(Test2D)\n",
    "print()\n",
    "\n",
    "# make a true copy\n",
    "Test2D_ = Test2D.copy()\n",
    "Test2D_[Test2D_>3]=3\n",
    "print(Test2D_)\n",
    "# Note: Here we can generate the same effect with the build-in function resp. method clip(..)\n",
    "Test2D.clip(max=3)"
   ]
  },
  {
   "cell_type": "markdown",
   "metadata": {},
   "source": [
    "#### Copies and references \n",
    "\n",
    "Note that we copied the original array by the method `copy()`. If not `Test2D_` would point to the same memory \n",
    "for storing the elements as `Test2D` (manipulating `Test2D_` would also manipulate `Test2D`).\n",
    "\n",
    "The same holds if we slice. "
   ]
  },
  {
   "cell_type": "code",
   "execution_count": null,
   "metadata": {},
   "outputs": [],
   "source": [
    "print (Test2D_)\n",
    "\n",
    "# this a called a view:\n",
    "second_row = Test2D_[1] # points to the same memory  \n",
    "\n",
    "second_row[:] = 4 # this also manipulates the second_row of Test2D_\n",
    "print()\n",
    "print(second_row)\n",
    "print()\n",
    "print (Test2D_)"
   ]
  },
  {
   "cell_type": "markdown",
   "metadata": {
    "collapsed": true
   },
   "source": [
    "## Reshape"
   ]
  },
  {
   "cell_type": "markdown",
   "metadata": {
    "collapsed": true
   },
   "source": [
    "In the chapter [Initialization and Metainformation](#Initialization-and-Metainformation) we saw that each array comes with a shape. Sometimes along data adjustment it might be useful to change the shape and this can be easily done using the array method `reshape()`. `reshape()` takes one number for each dimension as an argument which stands for how many elements this dimension will have in the 'new' reshaped array.  \n"
   ]
  },
  {
   "cell_type": "markdown",
   "metadata": {},
   "source": [
    "We can for example initialize a array of length 9 and then reshape this array into a 3x3 matrix or vice versa."
   ]
  },
  {
   "cell_type": "code",
   "execution_count": null,
   "metadata": {},
   "outputs": [],
   "source": [
    "Test1D = np.arange(9)\n",
    "print(Test1D)\n",
    "Test2D = Test1D.reshape(3,3)\n",
    "print(Test2D)\n",
    "\n",
    "Test1D = Test2D.reshape(1,9)\n",
    "print(Test1D)\n",
    "Test1D = Test2D.reshape(9)\n",
    "print(Test1D)"
   ]
  },
  {
   "cell_type": "markdown",
   "metadata": {},
   "source": [
    "**Caution:** If we want to reshape a matrix into an array `reshape(1,9)` will output a matrix, 2D array, with 1 row and 9 columns and `reshape(9)` will output a real 1D array, as seen above. "
   ]
  },
  {
   "cell_type": "markdown",
   "metadata": {},
   "source": [
    "It is also important that the new array is able to contain all the numbers given by the old array, so reshaping an array of length 9 into a 3x4 matrix won't work since we would need 12 elements to fill a 3x4 matrix. Same arguments hold for reshaping a bigger array into a smaller one."
   ]
  },
  {
   "cell_type": "code",
   "execution_count": null,
   "metadata": {},
   "outputs": [],
   "source": [
    "Test1D = np.arange(9)\n",
    "try:\n",
    "    Test2D = Test1D.reshape(3,4)\n",
    "except Exception as e:\n",
    "    print(\"An exception occured: \", e)"
   ]
  },
  {
   "cell_type": "code",
   "execution_count": null,
   "metadata": {},
   "outputs": [],
   "source": [
    "Test1D = np.arange(9)\n",
    "try:\n",
    "    Test2D = Test1D.reshape(2,2)\n",
    "except Exception as e:\n",
    "    print(\"An exception occured: \", e)  "
   ]
  },
  {
   "cell_type": "markdown",
   "metadata": {},
   "source": [
    "If the argument `-1` is used the shape of that dimension is computed automatically. That can be used,  \n",
    "e.g., to 'delete' a dimension and turn a 2D array into a 1D."
   ]
  },
  {
   "cell_type": "code",
   "execution_count": null,
   "metadata": {},
   "outputs": [],
   "source": [
    "print(np.arange(1,24,2)) # 1 to 24, stepsize 2\n",
    "print()\n",
    "Test2D = np.arange(1,24,2).reshape(-1,4)\n",
    "print(Test2D)\n",
    "print()\n",
    "print(Test2D.reshape(-1, 2))\n",
    "print()\n",
    "\n",
    "print(Test2D.reshape(-1))# nearly the same as\n",
    "print()\n",
    "print(Test2D.flatten())"
   ]
  },
  {
   "cell_type": "markdown",
   "metadata": {},
   "source": [
    "But:\n",
    "- `flatten()` returns a copy and \n",
    "- `reshape()` returns a new reference with different shape."
   ]
  },
  {
   "cell_type": "code",
   "execution_count": null,
   "metadata": {},
   "outputs": [],
   "source": [
    "print(Test2D)\n",
    "\n",
    "print()\n",
    "Test2D_ = Test2D.flatten() # the content is copied.\n",
    "Test2D_[3:7] = -1 # Test2D is not changed!! \n",
    "print(Test2D)\n",
    "\n",
    "print()\n",
    "Test2D_ = Test2D.reshape(-1) # points to the same memory as Test2D\n",
    "Test2D_[3:7] = -1\n",
    "print(Test2D)"
   ]
  },
  {
   "cell_type": "markdown",
   "metadata": {},
   "source": [
    "## Concatenate\n"
   ]
  },
  {
   "cell_type": "markdown",
   "metadata": {},
   "source": [
    "Sometimes you may have a few data sets each given by a matrix or array and each set has to run through the same calculations. Instead of running each calculation separately it is possibly to concatenate all given data sets into one using the general function `concatenate()` or the more specfic functions `vstack()` and `hstack()`. `concatenate()` takes two arguments: a list with all arrays you want to concatenate and the axis, dimension, along you want to concatenate the arrays."
   ]
  },
  {
   "cell_type": "markdown",
   "metadata": {},
   "source": [
    "Concatenate three matrices along the **first** dimension (axis=0) looks like the following\n"
   ]
  },
  {
   "cell_type": "code",
   "execution_count": null,
   "metadata": {},
   "outputs": [],
   "source": [
    "Test2D1 = np.arange(9).reshape(3,3)\n",
    "print(Test2D1, '\\n')\n",
    "\n",
    "Test2D2 = 2*np.arange(9).reshape(3,3)\n",
    "print(Test2D2, '\\n')\n",
    "\n",
    "Test2D3 = 3*np.arange(9).reshape(3,3)\n",
    "print(Test2D3, '\\n')\n",
    "\n",
    "Test2D = np.concatenate((Test2D1,Test2D2,Test2D3),axis=0)\n",
    "print(Test2D)"
   ]
  },
  {
   "cell_type": "markdown",
   "metadata": {},
   "source": [
    "Concatenate three matrices along the **second** dimension (axis=1) looks like "
   ]
  },
  {
   "cell_type": "code",
   "execution_count": null,
   "metadata": {},
   "outputs": [],
   "source": [
    "Test2D = np.concatenate((Test2D1,Test2D2,Test2D3),axis=1)\n",
    "print(Test2D)"
   ]
  },
  {
   "cell_type": "markdown",
   "metadata": {},
   "source": [
    "Concatenating three 1D-arrays (vecotors) looks like"
   ]
  },
  {
   "cell_type": "code",
   "execution_count": null,
   "metadata": {},
   "outputs": [],
   "source": [
    "Test1D1 = np.arange(4)\n",
    "print(Test1D1, '\\n')\n",
    "\n",
    "Test1D2 = 2*np.arange(4)\n",
    "Test1D3 = 3*np.arange(4)\n",
    "Test2D = np.concatenate((Test1D1,Test1D2,Test1D3),axis=0)\n",
    "print(Test2D)"
   ]
  },
  {
   "cell_type": "markdown",
   "metadata": {},
   "source": [
    "To put three arrays row-wise into a matrix we first have to reshape these arrays into 1x4 matrices "
   ]
  },
  {
   "cell_type": "code",
   "execution_count": null,
   "metadata": {},
   "outputs": [],
   "source": [
    "Test1D1 = np.arange(4)\n",
    "print(Test1D1.shape, '\\n')\n",
    "\n",
    "Test1D1 = Test1D1.reshape(1,4)\n",
    "print(Test1D1.shape, '\\n')\n",
    "\n",
    "\n",
    "Test1D2 = Test1D2.reshape(1,4)\n",
    "Test1D3 = Test1D3.reshape(1,4)\n",
    "Test2D = np.concatenate((Test1D1,Test1D2,Test1D3),axis=0)\n",
    "print(Test2D)"
   ]
  },
  {
   "cell_type": "markdown",
   "metadata": {},
   "source": [
    "If we are lazy and don't want to write the axis explicitly we can also use vstack(), which will concatenate vertically, meaning axis=0 and hstack(), which will concatenate horizontally, meaning axis=1."
   ]
  },
  {
   "cell_type": "code",
   "execution_count": null,
   "metadata": {},
   "outputs": [],
   "source": [
    "Test2D = np.vstack((Test2D1,Test2D2,Test2D3))\n",
    "print(Test2D)"
   ]
  },
  {
   "cell_type": "code",
   "execution_count": null,
   "metadata": {},
   "outputs": [],
   "source": [
    "Test2D = np.hstack((Test2D1,Test2D2,Test2D3))\n",
    "print(Test2D)"
   ]
  },
  {
   "cell_type": "markdown",
   "metadata": {},
   "source": [
    "Note that `concatenate`, `hstack` and `vstack` copies the content to new memory locations, because the \n",
    "memory of a numpy array must be contiguous."
   ]
  },
  {
   "cell_type": "code",
   "execution_count": null,
   "metadata": {},
   "outputs": [],
   "source": [
    "print(Test2D1, '\\n')\n",
    "Test2D1[:] = 0\n",
    "print(Test2D1, '\\n')\n",
    "\n",
    "print(Test2D)"
   ]
  },
  {
   "cell_type": "markdown",
   "metadata": {},
   "source": [
    "## Operators"
   ]
  },
  {
   "cell_type": "markdown",
   "metadata": {},
   "source": [
    "Before looking at how python deals with array (matrix) operations let's see how mathematics does it. As far as the maths section is concerned, let's say the terms 2D array and matrix are interchangeable.\n"
   ]
  },
  {
   "cell_type": "markdown",
   "metadata": {},
   "source": [
    "In math a matrix is represented as \n",
    "\n",
    "$\n",
    "\\textbf{A}  =\\begin{bmatrix}\n",
    "0 & 1 & 2 \\\\\n",
    "3 & 4 & 5 \\\\\n",
    "6 & 7 & 9 \\\\\n",
    "10 & 11 & 12 \\\\\n",
    "\\end{bmatrix} $\n",
    "\n",
    "with elements $A_{i,j}$\n",
    "\n",
    "For example, a row vector\n",
    "\n",
    "$\\textbf{A}_{0,:} = \\textbf{r}  = \\begin{bmatrix}\n",
    "0 & 1 & 2 \\\\\n",
    "\\end{bmatrix} $\n",
    "\n",
    "with elements $r_{i} = A_{0,i}$,\n",
    "and a column vector \n",
    "\n",
    "$\\textbf{A}_{:,1} = \\textbf{c}  = \\begin{bmatrix}\n",
    " 1 \\\\\n",
    " 4 \\\\\n",
    " 7 \\\\\n",
    " 11 \\\\\n",
    "\\end{bmatrix}. $\n",
    "\n",
    "with elements $c_{j}= A_{1,j}$."
   ]
  },
  {
   "cell_type": "markdown",
   "metadata": {},
   "source": [
    "The basic operations are defined as follows\n",
    "\n"
   ]
  },
  {
   "cell_type": "markdown",
   "metadata": {},
   "source": [
    "#### Addtion and Subtraction"
   ]
  },
  {
   "cell_type": "markdown",
   "metadata": {},
   "source": [
    "$\n",
    "(\\textbf{A} + \\textbf{B} )_{i,j} = A_{i,j} + B_{i,j} \\\\\n",
    "(\\textbf{A} - \\textbf{B} )_{i,j} = A_{i,j} - B_{i,j}\n",
    "$\n",
    "\n",
    "Here $\\textbf{A}$ and $\\textbf{B}$ have to have the same shape since both operations are performed elementwise."
   ]
  },
  {
   "cell_type": "markdown",
   "metadata": {},
   "source": [
    "#### Scalar multiplication"
   ]
  },
  {
   "cell_type": "markdown",
   "metadata": {},
   "source": [
    "Let $s$ be a scalar (number).\n",
    "\n",
    "$\n",
    "(s \\textbf{A})_{i,j} = s\\cdot A_{i,j}\n",
    "$\n",
    "\n",
    "Here each element is multiplied by the number s."
   ]
  },
  {
   "cell_type": "markdown",
   "metadata": {},
   "source": [
    "#### Transpose"
   ]
  },
  {
   "cell_type": "markdown",
   "metadata": {},
   "source": [
    "The transpose of a matrix basically switches rows with columns and vice versa.\n",
    "\n",
    "$\n",
    "(\\textbf{A}^{T})_{i,j} = A_{j,i}\n",
    "$\n",
    "\n",
    "For row and column vectors the transpose operation does the same, it simply turns row vectors into column vectors and column vectors into row vectors."
   ]
  },
  {
   "cell_type": "markdown",
   "metadata": {},
   "source": [
    "#### Matrix multiplication (dot product)"
   ]
  },
  {
   "cell_type": "markdown",
   "metadata": {},
   "source": [
    "$\n",
    "(\\textbf{A} \\circ \\textbf{B})_{i,j} = \\sum_{l=1} A_{i,l} \\cdot B_{l,j}\n",
    "$\n",
    "\n",
    "Matrix multiplication is **not** commutative and it is **not** an elementwise multiplication.\n",
    "In order to be defined the number of columns from the left matrix has to be the same as the number of rows of the right matrix, in general $shape(m,k) \\circ shape(k,n)$ gives $shape(m,n)$ for all combinations of m and n."
   ]
  },
  {
   "cell_type": "markdown",
   "metadata": {},
   "source": [
    "#### Matrix-Vector product"
   ]
  },
  {
   "cell_type": "markdown",
   "metadata": {},
   "source": [
    "The matrix vector product follows the same rules as the dot product where a row vectors has $shape(1,m)$ and a column vector $shape(n,1)$."
   ]
  },
  {
   "cell_type": "markdown",
   "metadata": {},
   "source": [
    "## Operators in Numpy"
   ]
  },
  {
   "cell_type": "markdown",
   "metadata": {},
   "source": [
    "Let's see how these operations are implemented in numpy."
   ]
  },
  {
   "cell_type": "code",
   "execution_count": null,
   "metadata": {},
   "outputs": [],
   "source": [
    "Matrix1 = np.arange(12).reshape(4,3)\n",
    "Matrix2 = np.random.rand(4,3).round(1)\n",
    "print(Matrix1)\n",
    "print()\n",
    "print(Matrix2)"
   ]
  },
  {
   "cell_type": "markdown",
   "metadata": {},
   "source": [
    "#### Addtion and Subtraction"
   ]
  },
  {
   "cell_type": "code",
   "execution_count": null,
   "metadata": {},
   "outputs": [],
   "source": [
    "Matrix3 = Matrix1 + Matrix2\n",
    "Matrix4 = Matrix1 - Matrix2\n",
    "print(Matrix3)\n",
    "print()\n",
    "print(Matrix4)"
   ]
  },
  {
   "cell_type": "markdown",
   "metadata": {},
   "source": [
    "#### Scalar multiplication"
   ]
  },
  {
   "cell_type": "code",
   "execution_count": null,
   "metadata": {},
   "outputs": [],
   "source": [
    "s = 5.0\n",
    "Matrix3 = s * Matrix1 \n",
    "print(Matrix3)"
   ]
  },
  {
   "cell_type": "markdown",
   "metadata": {},
   "source": [
    "#### Multiplication\n",
    "Numpy perfoms a 'normal' multiplication between to arrays. If their shapes are euqal numpy will use element-wise multiplication. If their shapes are not equal numpy will try to broadcast them (broadcasting see next chapter)."
   ]
  },
  {
   "cell_type": "code",
   "execution_count": null,
   "metadata": {},
   "outputs": [],
   "source": [
    "Matrix1 = np.arange(12).reshape(4,3)\n",
    "print(Matrix1)\n",
    "print()\n",
    "print(Matrix1*Matrix1)"
   ]
  },
  {
   "cell_type": "markdown",
   "metadata": {},
   "source": [
    "#### Transpose\n",
    "For the transpose of a matrix numpy has a build in function called `transpose()` or shorthand `.T` ."
   ]
  },
  {
   "cell_type": "code",
   "execution_count": null,
   "metadata": {},
   "outputs": [],
   "source": [
    "print(Matrix1)\n",
    "print()\n",
    "Matrix3 = Matrix1.transpose()\n",
    "print(Matrix3)\n",
    "print()\n",
    "Matrix4 = Matrix2.T\n",
    "print(Matrix4)\n",
    "print()\n",
    "\n",
    "Row =np.array([[1,2,3,4]])\n",
    "print(Row)\n",
    "Column = Row.T\n",
    "print()\n",
    "print(Column)"
   ]
  },
  {
   "cell_type": "markdown",
   "metadata": {},
   "source": [
    "#### Matrix multiplication (dot product)\n",
    "\n",
    "As for the transpose numpy also has a function called `dot()` taking two matrices as arguments"
   ]
  },
  {
   "cell_type": "code",
   "execution_count": null,
   "metadata": {},
   "outputs": [],
   "source": [
    "print(Matrix1)\n",
    "print()\n",
    "print(Matrix2.T)"
   ]
  },
  {
   "cell_type": "code",
   "execution_count": null,
   "metadata": {},
   "outputs": [],
   "source": [
    "Matrix3 = np.dot(Matrix1,Matrix2.T)\n",
    "print(Matrix3)"
   ]
  },
  {
   "cell_type": "code",
   "execution_count": null,
   "metadata": {},
   "outputs": [],
   "source": [
    "Matrix4 = Matrix2.T.dot(Matrix1)\n",
    "print(Matrix4)"
   ]
  },
  {
   "cell_type": "code",
   "execution_count": null,
   "metadata": {},
   "outputs": [],
   "source": [
    "print(Row)\n",
    "print()\n",
    "print(Column)\n",
    "print()\n",
    "print(Matrix1)\n",
    "print()\n",
    "print('Row o Matrix:',np.dot(Row,Matrix1))\n",
    "print('Row o Column (scalar product):',np.dot(Row,Column))"
   ]
  },
  {
   "cell_type": "markdown",
   "metadata": {},
   "source": [
    "So we see that if we perform operations on arrays with the 'right' shapes numpy does exactly what we would expect. But numpy can and will do much more which we will explore in the next chapter about broadcasting. "
   ]
  },
  {
   "cell_type": "markdown",
   "metadata": {},
   "source": [
    "#### Other types of vector operations"
   ]
  },
  {
   "cell_type": "code",
   "execution_count": null,
   "metadata": {},
   "outputs": [],
   "source": [
    "a = np.array([1, 4, 0], float)\n",
    "b = np.array([2, 2, 1], float)\n",
    "print(np.outer(a, b)) # 3x1 dot 1x3 results in 3x3 shape\n",
    "print(np.inner(a, b)) # same as dot()\n",
    "print(np.cross(a, b)) # result of crossproduct is perpendicular to a,b\n",
    "print(np.cross(b, a))"
   ]
  },
  {
   "cell_type": "markdown",
   "metadata": {},
   "source": [
    "## Broadcasting"
   ]
  },
  {
   "cell_type": "markdown",
   "metadata": {
    "collapsed": true
   },
   "source": [
    "Broadcasting is numpy's internal algorithm to perform element-wise operations on arrays with different shapes. Above, we saw that if we use the 'right' shapes for our arrays all numpy operations will do what we expect from math.\n",
    "\n",
    "If the shapes are not the same numpy will start to compare their shapes starting from the _trailing_ dimension, dimension-wise, and use the following rules. Two dimensions can be broadcasted together if \n",
    "\n",
    "**they are equal**\n",
    "\n",
    "or \n",
    "\n",
    "**at least one of them is 1**.\n",
    "\n",
    "Otherwise numpy will throw an execption."
   ]
  },
  {
   "cell_type": "markdown",
   "metadata": {
    "collapsed": true
   },
   "source": [
    "Now lets consider a simple example, a number plus a matrix (2D) array and see what numpy does."
   ]
  },
  {
   "cell_type": "code",
   "execution_count": null,
   "metadata": {},
   "outputs": [],
   "source": [
    "Number = 5.\n",
    "Matrix = np.arange(12).reshape(3,4)\n",
    "print(Number)\n",
    "print(Matrix)\n",
    "print()\n",
    "print(Number + Matrix)"
   ]
  },
  {
   "cell_type": "markdown",
   "metadata": {
    "collapsed": true
   },
   "source": [
    "So numpy actually adds 5 to every element in the matrix, which is equivalent to adding a 3x4 matrix filled with the value '5' to the matrix."
   ]
  },
  {
   "cell_type": "code",
   "execution_count": null,
   "metadata": {},
   "outputs": [],
   "source": [
    "Five = np.ones((3,4))*5.\n",
    "print(Five)\n",
    "print()\n",
    "print(Five + Matrix)"
   ]
  },
  {
   "cell_type": "markdown",
   "metadata": {
    "collapsed": true
   },
   "source": [
    "So numpy compares the shapes of the number and the matrix and will hit the second rule since the dimension of a number is 1. In the background numpy will than stretch the scalar 5 into a 3x3 matrix and add them."
   ]
  },
  {
   "cell_type": "markdown",
   "metadata": {},
   "source": [
    "**Important:** Numpy wont make any copies of any broadcasted array in the background. So broadcasting in general saves valuable memory."
   ]
  },
  {
   "cell_type": "markdown",
   "metadata": {
    "collapsed": true
   },
   "source": [
    "Now lets add an array to a matrix. "
   ]
  },
  {
   "cell_type": "code",
   "execution_count": null,
   "metadata": {},
   "outputs": [],
   "source": [
    "Array = np.arange(1,5)\n",
    "print(Array,' with', Array.shape)\n",
    "print()\n",
    "print(Matrix,' with', Matrix.shape)"
   ]
  },
  {
   "cell_type": "code",
   "execution_count": null,
   "metadata": {},
   "outputs": [],
   "source": [
    "print(Matrix+Array)"
   ]
  },
  {
   "cell_type": "markdown",
   "metadata": {
    "collapsed": true
   },
   "source": [
    "Here numpy will hit rule 1, since the dimension of the array is equal to the second dimension of the matrix. So numpy will broadcast the array `[1 2 3 4]` into a matrix of shape (3,4) and add them."
   ]
  },
  {
   "cell_type": "markdown",
   "metadata": {},
   "source": [
    "Since numpy performs all its basic operations (+,-,*,/) element-wise this broadcasting principle will hold for all of them."
   ]
  },
  {
   "cell_type": "markdown",
   "metadata": {},
   "source": [
    "## Misc"
   ]
  },
  {
   "cell_type": "markdown",
   "metadata": {},
   "source": [
    "#### Special arrays"
   ]
  },
  {
   "cell_type": "code",
   "execution_count": null,
   "metadata": {},
   "outputs": [],
   "source": [
    "print(np.zeros(7, dtype=int))\n",
    "print(np.ones(8))\n",
    "print(np.zeros_like(Matrix))\n",
    "print(np.ones_like(Matrix))\n",
    "print(np.identity(4, dtype=float)) # same as\n",
    "print(np.eye(4, dtype=float))\n",
    "print(np.eye(4,k=1)) # eye allows shifting of the diagonal"
   ]
  },
  {
   "cell_type": "code",
   "execution_count": null,
   "metadata": {},
   "outputs": [],
   "source": [
    "print(np.array(list(range(1,20,2)))) # don't do that\n",
    "a = np.arange(1, 20, 2, dtype=int) # directly !\n",
    "print(a)\n",
    "\n",
    "# test if an element occurs somewhere in the array\n",
    "print(8 in a) # python way\n",
    "print (np.any((a == 8))) # numpy way"
   ]
  },
  {
   "cell_type": "markdown",
   "metadata": {},
   "source": [
    "#### any and all"
   ]
  },
  {
   "cell_type": "code",
   "execution_count": null,
   "metadata": {},
   "outputs": [],
   "source": [
    "x = np.arange(0,2,0.5)\n",
    "y = 2*x\n",
    "\n",
    "# test if there is an element <=0.6\n",
    "print(\"Is there an element in y with y[i] <=0.6: \", np.any(y<=0.6) )\n",
    "print(\"Are all elements in y <=0.6: \", np.all(y<=0.6) )\n",
    "\n",
    "print(\"the boolean array of y<=0.6 is \", y<=0.6)"
   ]
  },
  {
   "cell_type": "code",
   "execution_count": null,
   "metadata": {},
   "outputs": [],
   "source": [
    "# test if an element is in the array\n",
    "a = np.arange(1, 20, 2, dtype=int) \n",
    "\n",
    "print(8 in a) # the python way also works\n",
    "print (np.any((a == 8))) #  with any"
   ]
  },
  {
   "cell_type": "markdown",
   "metadata": {},
   "source": [
    "#### arange, linspace and logspace"
   ]
  },
  {
   "cell_type": "code",
   "execution_count": null,
   "metadata": {},
   "outputs": [],
   "source": [
    "a = np.arange(0, 2*np.pi, .1) # from 0 to 2*pi, STEPSIZE 0.1\n",
    "print(a)\n",
    "print(a.shape)"
   ]
  },
  {
   "cell_type": "code",
   "execution_count": null,
   "metadata": {},
   "outputs": [],
   "source": [
    "a = np.linspace(0, 2 * np.pi , 20) # form 1 to 2*pi, 20 ELEMENTS\n",
    "print(a)\n",
    "print(a.shape)"
   ]
  },
  {
   "cell_type": "code",
   "execution_count": null,
   "metadata": {},
   "outputs": [],
   "source": [
    "import matplotlib.pyplot as plt\n",
    "\n",
    "\n",
    "x = np.linspace(0.1,10,100)\n",
    "print('x: \\n', x)\n",
    "\n",
    "plt.plot(x, np.log(x), label='natural log (base e)')\n",
    "plt.plot(x, np.log10(x), label='log (base 10)')\n",
    "plt.plot(x, np.log2(x), label='log (base 2)')\n",
    "plt.plot(x, np.log(x) / np.log(0.5), label='log (base 0.5)')\n",
    "\n",
    "plt.plot(x, np.zeros_like(x), ':', color='black')\n",
    "\n",
    "plt.legend()"
   ]
  },
  {
   "cell_type": "code",
   "execution_count": null,
   "metadata": {},
   "outputs": [],
   "source": [
    "print(np.log10(100), '\\n')\n",
    "a = np.logspace(0, np.log10(100), 20) \n",
    "#In linear space, the sequence starts at ``base ** start``\n",
    "# (`base` to the power of `start`) and ends with ``base ** stop``\n",
    "# default of base=10.0\n",
    "print(a)\n",
    "print(a.shape)\n",
    "\n",
    "plt.plot(a, label='logspace')\n",
    "plt.legend()"
   ]
  },
  {
   "cell_type": "markdown",
   "metadata": {},
   "source": [
    "#### Adding new axis"
   ]
  },
  {
   "cell_type": "code",
   "execution_count": null,
   "metadata": {},
   "outputs": [],
   "source": [
    "Test = np.ones((8,2))\n",
    "print(Test, '\\n Shape: ', Test.shape, '\\n')\n",
    "\n",
    "Test_ = Test[np.newaxis,:, np.newaxis]\n",
    "print(Test_, '\\n Shape: ', Test_.shape, '\\n')\n"
   ]
  },
  {
   "cell_type": "markdown",
   "metadata": {},
   "source": [
    "#### Application of functions \n",
    "\n",
    "Here we define the function $f(x) = x^2 + 10$:"
   ]
  },
  {
   "cell_type": "code",
   "execution_count": null,
   "metadata": {},
   "outputs": [],
   "source": [
    "# application of a fuction on all elements\n",
    "x = np.arange(1, 10, 2)\n",
    "print(x)\n",
    "f = lambda x: x ** 2 + 10\n",
    "f(x)"
   ]
  },
  {
   "cell_type": "code",
   "execution_count": null,
   "metadata": {},
   "outputs": [],
   "source": [
    "### build- in mathematical functions\n",
    "\n",
    "# abs, sign, sqrt, log, log10, exp, sin, cos, tan, arcsin, arccos,\n",
    "# arctan, sinh, cosh, tanh, arcsinh, arccosh, arctanh\n",
    "a = np.array([1, 4, 9], float) \n",
    "print(a, '\\n')\n",
    "print(np.sqrt(a))"
   ]
  },
  {
   "cell_type": "code",
   "execution_count": null,
   "metadata": {},
   "outputs": [],
   "source": [
    "# application of a function along an axis\n",
    "c = np.array([[1, 2, 3, 4], [5, 6, 7, 8], [9, 10, 11, 12]], int)\n",
    "print(c)\n",
    "print()\n",
    "\n",
    "#we want all columns which contain a number % 6 = 0 (\"modulo 6\")\n",
    "ind = np.apply_along_axis(lambda x: np.any(x % 6 == 0), axis=0, arr=c)\n",
    "\n",
    "print(ind)\n",
    "print()\n",
    "\n",
    "print(c[..., ind])"
   ]
  },
  {
   "cell_type": "code",
   "execution_count": null,
   "metadata": {},
   "outputs": [],
   "source": [
    "a = np.array([1.1, 1.5, 1.9], float)\n",
    "\n",
    "print(np.floor(a)) # round downwards\n",
    "print(np.ceil(a)) # round upwards\n",
    "print(np.rint(a)) # round at threshold 0.5"
   ]
  },
  {
   "cell_type": "markdown",
   "metadata": {},
   "source": [
    "#### Iterations over arrays"
   ]
  },
  {
   "cell_type": "code",
   "execution_count": null,
   "metadata": {},
   "outputs": [],
   "source": [
    "a = np.array([[1, 2], [3, 4], [5, 6]], float)\n",
    "for x in a:\n",
    "    print(x)\n",
    "    \n",
    "### just for showing iteration functionality\n",
    "### DON'T do this when you want to multiply elementwise the columns!!!\n",
    "for(x, y) in a:\n",
    "    print(x, ' * ' , y , ' = ' ,  x * y)\n",
    "\n",
    "### this would be the way to do it\n",
    "print(a[:,0] * a[:,1])"
   ]
  },
  {
   "cell_type": "markdown",
   "metadata": {},
   "source": [
    "#### Build-in array operations"
   ]
  },
  {
   "cell_type": "code",
   "execution_count": null,
   "metadata": {},
   "outputs": [],
   "source": [
    "a = np.array([2, 4, 3], float)\n",
    "\n",
    "print(a.sum()) # 2+4+3\n",
    "print(a.prod()) # 2*4*3\n",
    "print() \n",
    "\n",
    "print(a.mean())\n",
    "print(a.var(ddof=1))\n",
    "print(a.std(ddof=1.5))\n",
    "print()\n",
    "\n",
    "print(a.min())\n",
    "print(a.max())"
   ]
  },
  {
   "cell_type": "code",
   "execution_count": null,
   "metadata": {},
   "outputs": [],
   "source": [
    "# application along an axis\n",
    "a = np.array([[0, 2], [3, -1], [3, 5]], float)\n",
    "print(a)\n",
    "print(a.mean(axis=0))\n",
    "print(a.mean(axis=1))"
   ]
  },
  {
   "cell_type": "code",
   "execution_count": null,
   "metadata": {},
   "outputs": [],
   "source": [
    "# get the index positions\n",
    "print(a)\n",
    "print(a.argmin()) # flattend index positions\n",
    "print(np.unravel_index(a.argmax(), a.shape)) "
   ]
  },
  {
   "cell_type": "code",
   "execution_count": null,
   "metadata": {},
   "outputs": [],
   "source": [
    "a = np.array([6, 2, 5, -1, 0], float)\n",
    "print(sorted(a)) "
   ]
  },
  {
   "cell_type": "code",
   "execution_count": null,
   "metadata": {},
   "outputs": [],
   "source": [
    "a = np.array([1, 1, 4, 5, 5, 5, 7], float)\n",
    "print(np.unique(a))"
   ]
  },
  {
   "cell_type": "code",
   "execution_count": null,
   "metadata": {},
   "outputs": [],
   "source": [
    "a = np.array([[1, 2], [3, 4]], float)\n",
    "print(a.diagonal()) # diagonal elements"
   ]
  },
  {
   "cell_type": "markdown",
   "metadata": {},
   "source": [
    "#### Boolean arrays"
   ]
  },
  {
   "cell_type": "code",
   "execution_count": null,
   "metadata": {},
   "outputs": [],
   "source": [
    "a = np.array([1, 3, 0], float)\n",
    "b = np.array([0, 3, 2], float)\n",
    "a > b "
   ]
  },
  {
   "cell_type": "code",
   "execution_count": null,
   "metadata": {},
   "outputs": [],
   "source": [
    "a = np.array([1, 3, 0, 2], float)\n",
    "print(np.logical_and(a > 0, a < 3)) # boolean array\n",
    "\n",
    "# Remember other methods doing slightly different things:\n",
    "\n",
    "print(a[(a > 0) & (a < 3)]) # return elements which hold conditions\n",
    "print(np.where((a > 0) & (a < 3))) # return array with indexes which hold condition"
   ]
  },
  {
   "cell_type": "code",
   "execution_count": null,
   "metadata": {},
   "outputs": [],
   "source": [
    "b = np.array([True, False, False], bool)\n",
    "print(np.logical_not(b))\n",
    "print(~b) # same "
   ]
  },
  {
   "cell_type": "code",
   "execution_count": null,
   "metadata": {},
   "outputs": [],
   "source": [
    "c = np.array([False, True, False], bool)\n",
    "print(np.logical_or(b, c))"
   ]
  },
  {
   "cell_type": "code",
   "execution_count": null,
   "metadata": {},
   "outputs": [],
   "source": [
    "a = np.arange(10)\n",
    "print(a)\n",
    "print(np.where(a%2==0 , a, 1000*a))"
   ]
  },
  {
   "cell_type": "code",
   "execution_count": null,
   "metadata": {},
   "outputs": [],
   "source": [
    "a = np.array([1, 3, 0], float)\n",
    "# broadcasting for false array\n",
    "np.where(a > 0, a, 42)"
   ]
  },
  {
   "cell_type": "code",
   "execution_count": null,
   "metadata": {},
   "outputs": [],
   "source": [
    "a = np.array([[0, 1], [3, 0]], float)\n",
    "\n",
    "print(a.nonzero()) # array of indexes where nonzero\n",
    "print()\n",
    "print(a[a.nonzero()]) # apply indexes where nonzero on same array"
   ]
  },
  {
   "cell_type": "code",
   "execution_count": null,
   "metadata": {},
   "outputs": [],
   "source": [
    "# NaN: Not any number\n",
    "# Inf: Infinity\n",
    "a = np.array([1, np.NaN, np.Inf, 4, 7], float)\n",
    "print(a)\n",
    "print(np.isnan(a))\n",
    "print(~np.isnan(a))\n",
    "print(np.isfinite(a))"
   ]
  },
  {
   "cell_type": "code",
   "execution_count": null,
   "metadata": {},
   "outputs": [],
   "source": [
    "# handling of no existing values\n",
    "# assume a was read in from a file \n",
    "a = np.array([2, np.NaN, 4, 6], float)\n",
    "print(a)\n",
    "print(a[~np.isnan(a)])\n",
    "print(a.mean())\n",
    "print(a[~np.isnan(a)].mean()) # e.g. to ignore nans\n",
    "\n"
   ]
  },
  {
   "cell_type": "code",
   "execution_count": null,
   "metadata": {},
   "outputs": [],
   "source": [
    "# take from an array multiple indices at ones\n",
    "a = np.array([[0, 1], [2, 3]], float)\n",
    "b = np.array([0, 0, 1], int)\n",
    "a.take(b, axis=0)  # results in row0, row0, row1"
   ]
  },
  {
   "cell_type": "code",
   "execution_count": null,
   "metadata": {},
   "outputs": [],
   "source": [
    "# analog put \n",
    "a = np.array([0, 1, 2, 3, 4, 5], float)\n",
    "a.put([0, 3], 5)\n",
    "a "
   ]
  },
  {
   "cell_type": "markdown",
   "metadata": {},
   "source": [
    "#### More from linear algebra"
   ]
  },
  {
   "cell_type": "code",
   "execution_count": null,
   "metadata": {},
   "outputs": [],
   "source": [
    "a = np.array([[4, 2, 0], [9, 3, 7], [1, 2, 1]], float) \n",
    "np.linalg.det(a) # determinate"
   ]
  },
  {
   "cell_type": "code",
   "execution_count": null,
   "metadata": {},
   "outputs": [],
   "source": [
    "# Eigenvalues and eigenvectors\n",
    "vals, vecs = np.linalg.eig(a)\n",
    "vals, vecs"
   ]
  },
  {
   "cell_type": "code",
   "execution_count": null,
   "metadata": {},
   "outputs": [],
   "source": [
    "b = np.linalg.inv(a) # inverse\n",
    "b\n",
    "a.dot(b) # note the numerical issues"
   ]
  },
  {
   "cell_type": "markdown",
   "metadata": {},
   "source": [
    "Consider the linear equations:\n",
    "\n",
    "$$\n",
    "x + 3y + 4z = 4 \\\\\n",
    "2x + 3y + 5z = 4 \\\\\n",
    "5x + 7y + 9z = 4\n",
    "$$\n",
    "\n",
    "as matrix (read as dot product: \"*1x + 3y + 4z = 4 ....*\"):\n",
    "\n",
    "$$\n",
    "\\begin{bmatrix}\n",
    "1 & 3 & 4 \\\\\n",
    "2 & 3 & 5 \\\\\n",
    "5 & 7 & 9\n",
    "\\end{bmatrix} \n",
    "\\begin{bmatrix}\n",
    "x \\\\\n",
    "y \\\\\n",
    "z \n",
    "\\end{bmatrix} = \n",
    "\\begin{bmatrix}\n",
    "4 \\\\\n",
    "4 \\\\\n",
    "4 \n",
    "\\end{bmatrix}\n",
    "$$"
   ]
  },
  {
   "cell_type": "code",
   "execution_count": null,
   "metadata": {},
   "outputs": [],
   "source": [
    "# Solve a system of linear equations\n",
    "\n",
    "list_matrix = [[1, 3, 4], [2, 3, 5], [5, 7, 9]]\n",
    "A = np.array(list_matrix)\n",
    "b = np.array([4, 4, 4])\n",
    "# Solve\n",
    "xyz = np.linalg.solve(A, b)\n",
    "print(xyz)"
   ]
  },
  {
   "cell_type": "markdown",
   "metadata": {},
   "source": [
    "## Literature\n",
    "\n",
    "\n",
    "#### Broadcasting\n",
    "\n",
    "Numpys documentation:\n",
    " - https://docs.scipy.org/doc/numpy/user/basics.broadcasting.html\n",
    " - http://www.numpy.org/devdocs/user/theory.broadcasting.html"
   ]
  },
  {
   "cell_type": "markdown",
   "metadata": {},
   "source": [
    "## Licenses\n",
    "\n",
    "### Notebook License (CC-BY-SA 4.0)\n",
    "\n",
    "*The following license applies to the complete notebook, including code cells. It does however not apply to any referenced external media (e.g., images).*\n",
    "\n",
    "NumpyAndArrays <br/>\n",
    "Oliver Fischer <br/>\n",
    "is licensed under a [Creative Commons Attribution-ShareAlike 4.0 International License](http://creativecommons.org/licenses/by-sa/4.0/).<br/>\n",
    "Based on a work at https://gitlab.com/deep.TEACHING.\n",
    "\n",
    "\n",
    "### Code License (MIT)\n",
    "\n",
    "*The following license only applies to code cells of the notebook.*\n",
    "\n",
    "Copyright 2019 Oliver Fischer\n",
    "\n",
    "Permission is hereby granted, free of charge, to any person obtaining a copy of this software and associated documentation files (the \"Software\"), to deal in the Software without restriction, including without limitation the rights to use, copy, modify, merge, publish, distribute, sublicense, and/or sell copies of the Software, and to permit persons to whom the Software is furnished to do so, subject to the following conditions:\n",
    "\n",
    "The above copyright notice and this permission notice shall be included in all copies or substantial portions of the Software.\n",
    "\n",
    "THE SOFTWARE IS PROVIDED \"AS IS\", WITHOUT WARRANTY OF ANY KIND, EXPRESS OR IMPLIED, INCLUDING BUT NOT LIMITED TO THE WARRANTIES OF MERCHANTABILITY, FITNESS FOR A PARTICULAR PURPOSE AND NONINFRINGEMENT. IN NO EVENT SHALL THE AUTHORS OR COPYRIGHT HOLDERS BE LIABLE FOR ANY CLAIM, DAMAGES OR OTHER LIABILITY, WHETHER IN AN ACTION OF CONTRACT, TORT OR OTHERWISE, ARISING FROM, OUT OF OR IN CONNECTION WITH THE SOFTWARE OR THE USE OR OTHER DEALINGS IN THE SOFTWARE.\n"
   ]
  }
 ],
 "metadata": {
  "celltoolbar": "Slideshow",
  "kernelspec": {
   "display_name": "deep_teaching_kernel",
   "language": "python",
   "name": "deep_teaching_kernel"
  },
  "language_info": {
   "codemirror_mode": {
    "name": "ipython",
    "version": 3
   },
   "file_extension": ".py",
   "mimetype": "text/x-python",
   "name": "python",
   "nbconvert_exporter": "python",
   "pygments_lexer": "ipython3",
   "version": "3.6.5"
  }
 },
 "nbformat": 4,
 "nbformat_minor": 2
}
