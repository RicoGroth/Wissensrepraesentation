{
 "cells": [
  {
   "cell_type": "code",
   "execution_count": null,
   "id": "6dd8073e",
   "metadata": {},
   "outputs": [],
   "source": [
    "import numpy as np"
   ]
  },
  {
   "cell_type": "code",
   "execution_count": 4,
   "id": "0675e1f9",
   "metadata": {
    "scrolled": true
   },
   "outputs": [
    {
     "name": "stdout",
     "output_type": "stream",
     "text": [
      "[1 2 3 4]\n",
      "int64\n",
      "1\n"
     ]
    }
   ],
   "source": [
    "test_array = np.array([1, 2, 3, 4])\n",
    "print(test_array)\n",
    "print(test_array.dtype)\n",
    "print(test_array.ndim)"
   ]
  },
  {
   "cell_type": "code",
   "execution_count": 6,
   "id": "c36adb08",
   "metadata": {},
   "outputs": [
    {
     "name": "stdout",
     "output_type": "stream",
     "text": [
      "[[0. 0. 0.]\n",
      " [0. 0. 0.]\n",
      " [0. 0. 0.]\n",
      " [0. 0. 0.]]\n",
      "[[0. 0. 0.]\n",
      " [0. 0. 0.]\n",
      " [0. 0. 0.]\n",
      " [0. 0. 0.]]\n"
     ]
    }
   ],
   "source": [
    "# 4 rows, 3 columns\n",
    "matrix_zeros = np.zeros((4, 3))\n",
    "print(matrix_zeros)"
   ]
  },
  {
   "cell_type": "code",
   "execution_count": 82,
   "id": "9029665d",
   "metadata": {},
   "outputs": [
    {
     "name": "stdout",
     "output_type": "stream",
     "text": [
      "[5.3 7.3 9.9 8.5 7.4 8.5 3.9 9.8 5.2 3.2 4.7 4.3 5.6 5.8]\n"
     ]
    }
   ],
   "source": [
    "# boolean mask\n",
    "m2D = 10 * np.random.rand(5, 5).round(2)\n",
    "# find all entries x with x > 3\n",
    "m2DBoolean = m2D > 3\n",
    "# results in 1D-array\n",
    "print(m2D[m2DBoolean])"
   ]
  },
  {
   "cell_type": "code",
   "execution_count": 83,
   "id": "ed57a1db",
   "metadata": {},
   "outputs": [
    {
     "name": "stdout",
     "output_type": "stream",
     "text": [
      "[[0. 0. 0. 0.]\n",
      " [1. 1. 1. 1.]\n",
      " [0. 0. 0. 0.]\n",
      " [0. 0. 0. 0.]]\n"
     ]
    }
   ],
   "source": [
    "first = np.zeros((4, 4))\n",
    "second = first\n",
    "# first and second point to the same memory\n",
    "first[1,...] = 1\n",
    "print(second)"
   ]
  },
  {
   "cell_type": "code",
   "execution_count": 85,
   "id": "fdb24aef",
   "metadata": {},
   "outputs": [
    {
     "name": "stdout",
     "output_type": "stream",
     "text": [
      "[[1. 1. 1.]\n",
      " [0. 0. 0.]\n",
      " [0. 0. 0.]]\n",
      "[1. 1. 1. 0. 0. 0. 0. 0. 0.]\n"
     ]
    }
   ],
   "source": [
    "arr = np.zeros((3, 3))\n",
    "arr[0,:] = 1\n",
    "print(arr)\n",
    "# arr.reshape(1, 9) would lead to a 2D-matrix\n",
    "# true 1D-array\n",
    "print(arr.reshape(9))\n",
    "try:\n",
    "    print(arr.reshape(3, 4))\n",
    "except:\n",
    "    print(\"New shape has to have the same amount of cells as the old shape.\")"
   ]
  }
 ],
 "metadata": {
  "kernelspec": {
   "display_name": "Python 3 (ipykernel)",
   "language": "python",
   "name": "python3"
  },
  "language_info": {
   "codemirror_mode": {
    "name": "ipython",
    "version": 3
   },
   "file_extension": ".py",
   "mimetype": "text/x-python",
   "name": "python",
   "nbconvert_exporter": "python",
   "pygments_lexer": "ipython3",
   "version": "3.10.7"
  }
 },
 "nbformat": 4,
 "nbformat_minor": 5
}
