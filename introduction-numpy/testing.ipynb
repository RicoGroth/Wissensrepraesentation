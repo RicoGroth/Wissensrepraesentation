{
 "cells": [
  {
   "cell_type": "code",
   "execution_count": null,
   "id": "dac2310c",
   "metadata": {},
   "outputs": [],
   "source": [
    "import numpy as np"
   ]
  },
  {
   "cell_type": "code",
   "execution_count": 4,
   "id": "5f128a45",
   "metadata": {
    "scrolled": true
   },
   "outputs": [
    {
     "name": "stdout",
     "output_type": "stream",
     "text": [
      "[1 2 3 4]\n",
      "int64\n",
      "1\n"
     ]
    }
   ],
   "source": [
    "test_array = np.array([1, 2, 3, 4])\n",
    "print(test_array)\n",
    "print(test_array.dtype)\n",
    "print(test_array.ndim)"
   ]
  },
  {
   "cell_type": "code",
   "execution_count": 6,
   "id": "a87defbf",
   "metadata": {},
   "outputs": [
    {
     "name": "stdout",
     "output_type": "stream",
     "text": [
      "[[0. 0. 0.]\n",
      " [0. 0. 0.]\n",
      " [0. 0. 0.]\n",
      " [0. 0. 0.]]\n",
      "[[0. 0. 0.]\n",
      " [0. 0. 0.]\n",
      " [0. 0. 0.]\n",
      " [0. 0. 0.]]\n"
     ]
    }
   ],
   "source": [
    "# 4 rows, 3 columns\n",
    "matrix_zeros = np.zeros((4, 3))\n",
    "print(matrix_zeros)"
   ]
  },
  {
   "cell_type": "code",
   "execution_count": 82,
   "id": "1c80da15",
   "metadata": {},
   "outputs": [
    {
     "name": "stdout",
     "output_type": "stream",
     "text": [
      "[5.3 7.3 9.9 8.5 7.4 8.5 3.9 9.8 5.2 3.2 4.7 4.3 5.6 5.8]\n"
     ]
    }
   ],
   "source": [
    "# boolean mask\n",
    "m2D = 10 * np.random.rand(5, 5).round(2)\n",
    "# find all entries x with x > 3\n",
    "m2DBoolean = m2D > 3\n",
    "# results in 1D-array\n",
    "print(m2D[m2DBoolean])"
   ]
  },
  {
   "cell_type": "code",
   "execution_count": 83,
   "id": "8edb4c27",
   "metadata": {},
   "outputs": [
    {
     "name": "stdout",
     "output_type": "stream",
     "text": [
      "[[0. 0. 0. 0.]\n",
      " [1. 1. 1. 1.]\n",
      " [0. 0. 0. 0.]\n",
      " [0. 0. 0. 0.]]\n"
     ]
    }
   ],
   "source": [
    "first = np.zeros((4, 4))\n",
    "second = first\n",
    "# first and second point to the same memory\n",
    "first[1,...] = 1\n",
    "print(second)"
   ]
  },
  {
   "cell_type": "code",
   "execution_count": 86,
   "id": "ea8c5184",
   "metadata": {},
   "outputs": [
    {
     "name": "stdout",
     "output_type": "stream",
     "text": [
      "[[1. 1. 1.]\n",
      " [0. 0. 0.]\n",
      " [0. 0. 0.]]\n",
      "[1. 1. 1. 0. 0. 0. 0. 0. 0.]\n",
      "New shape has to have the same amount of cells as the old shape.\n"
     ]
    }
   ],
   "source": [
    "arr = np.zeros((3, 3))\n",
    "arr[0,:] = 1\n",
    "print(arr)\n",
    "# arr.reshape(1, 9) would lead to a 2D-matrix\n",
    "# true 1D-array\n",
    "print(arr.reshape(9))\n",
    "try:\n",
    "    print(arr.reshape(3, 4))\n",
    "except:\n",
    "    print(\"New shape has to have the same amount of cells as the old shape.\")"
   ]
  },
  {
   "cell_type": "code",
   "execution_count": 95,
   "id": "f2a633c3",
   "metadata": {},
   "outputs": [
    {
     "name": "stdout",
     "output_type": "stream",
     "text": [
      "[[0 1 2]\n",
      " [3 4 5]\n",
      " [6 7 8]] \n",
      "\n",
      "[[ 0  2  4]\n",
      " [ 6  8 10]\n",
      " [12 14 16]] \n",
      "\n",
      "[[ 0  3  6]\n",
      " [ 9 12 15]\n",
      " [18 21 24]] \n",
      "\n",
      "[[ 0  1  2  0  2  4  0  3  6]\n",
      " [ 3  4  5  6  8 10  9 12 15]\n",
      " [ 6  7  8 12 14 16 18 21 24]]\n"
     ]
    }
   ],
   "source": [
    "Test2D1 = np.arange(9).reshape(3,3)\n",
    "print(Test2D1, '\\n')\n",
    "\n",
    "Test2D2 = 2*np.arange(9).reshape(3,3)\n",
    "print(Test2D2, '\\n')\n",
    "\n",
    "Test2D3 = 3*np.arange(9).reshape(3,3)\n",
    "print(Test2D3, '\\n')\n",
    "\n",
    "#concatenation only works on matrices, not arrays (would need reshaping to 1xn)\n",
    "# axis = 0 => rows are connected (hstack() works, too)\n",
    "# axis = 1 => columns are connected (vstack() works, too)\n",
    "Test2D = np.concatenate((Test2D1,Test2D2,Test2D3),axis=1)\n",
    "print(Test2D)"
   ]
  }
 ],
 "metadata": {
  "kernelspec": {
   "display_name": "Python 3 (ipykernel)",
   "language": "python",
   "name": "python3"
  },
  "language_info": {
   "codemirror_mode": {
    "name": "ipython",
    "version": 3
   },
   "file_extension": ".py",
   "mimetype": "text/x-python",
   "name": "python",
   "nbconvert_exporter": "python",
   "pygments_lexer": "ipython3",
   "version": "3.10.7"
  }
 },
 "nbformat": 4,
 "nbformat_minor": 5
}
